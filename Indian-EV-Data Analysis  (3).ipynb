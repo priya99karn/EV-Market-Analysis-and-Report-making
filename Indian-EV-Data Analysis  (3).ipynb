{
 "cells": [
  {
   "cell_type": "markdown",
   "id": "5a76af7d",
   "metadata": {},
   "source": [
    " <h1 style=\"color:green;\"> Objective: 🚀</h1>"
   ]
  },
  {
   "cell_type": "markdown",
   "id": "0075781c",
   "metadata": {},
   "source": [
    "## Probleam Statement:\n",
    "\n",
    "As a team we were asked to work under an Online Vehicle Booking Product Startup. Due to heavy competition in cab booking from Ola and Uber in India, the startup is looking for an alternate segment which can generate early traction in the market and revenue.\n",
    "\n",
    "\n",
    "We have to analyse the Vehicle Booking market in India using segmentation analysis and come up with a feasible strategy to enter the market, targeting the segments where there can be possible profit by offering Vehicle booking services.\n"
   ]
  },
  {
   "cell_type": "markdown",
   "id": "d5a40f0e",
   "metadata": {},
   "source": [
    "<h1 style=\"color:green;\"> Step 1: Load the Data  🚀</h1>"
   ]
  },
  {
   "cell_type": "code",
   "execution_count": 1,
   "id": "b1ff210f",
   "metadata": {},
   "outputs": [],
   "source": [
    "import pandas as pd\n",
    "\n",
    "file_path = r\"C:\\Users\\priya\\Downloads\\indian-ev-data.csv\"\n",
    "ev_data = pd.read_csv(file_path)"
   ]
  },
  {
   "cell_type": "code",
   "execution_count": 2,
   "id": "7a900bab",
   "metadata": {
    "scrolled": true
   },
   "outputs": [
    {
     "data": {
      "text/html": [
       "<div>\n",
       "<style scoped>\n",
       "    .dataframe tbody tr th:only-of-type {\n",
       "        vertical-align: middle;\n",
       "    }\n",
       "\n",
       "    .dataframe tbody tr th {\n",
       "        vertical-align: top;\n",
       "    }\n",
       "\n",
       "    .dataframe thead th {\n",
       "        text-align: right;\n",
       "    }\n",
       "</style>\n",
       "<table border=\"1\" class=\"dataframe\">\n",
       "  <thead>\n",
       "    <tr style=\"text-align: right;\">\n",
       "      <th></th>\n",
       "      <th>id</th>\n",
       "      <th>Model</th>\n",
       "      <th>Manufacturer</th>\n",
       "      <th>Vehicle Type</th>\n",
       "      <th>Battery Capacity (kWh)</th>\n",
       "      <th>Range per Charge (km)</th>\n",
       "      <th>Charging Time</th>\n",
       "      <th>Price</th>\n",
       "      <th>Power (HP or kW)</th>\n",
       "      <th>Top Speed (km/h)</th>\n",
       "      <th>Year of Manufacture</th>\n",
       "    </tr>\n",
       "  </thead>\n",
       "  <tbody>\n",
       "    <tr>\n",
       "      <th>0</th>\n",
       "      <td>1</td>\n",
       "      <td>Aura 300 Plus</td>\n",
       "      <td>Ather Energy</td>\n",
       "      <td>Scooter</td>\n",
       "      <td>2.9</td>\n",
       "      <td>116</td>\n",
       "      <td>4.5</td>\n",
       "      <td>129000.0</td>\n",
       "      <td>6.0</td>\n",
       "      <td>80.0</td>\n",
       "      <td>2021.0</td>\n",
       "    </tr>\n",
       "    <tr>\n",
       "      <th>1</th>\n",
       "      <td>2</td>\n",
       "      <td>Pure EV Epluto 7G</td>\n",
       "      <td>Pure EV</td>\n",
       "      <td>Scooter</td>\n",
       "      <td>2.7</td>\n",
       "      <td>120</td>\n",
       "      <td>3.0</td>\n",
       "      <td>109000.0</td>\n",
       "      <td>5.0</td>\n",
       "      <td>80.0</td>\n",
       "      <td>2021.0</td>\n",
       "    </tr>\n",
       "    <tr>\n",
       "      <th>2</th>\n",
       "      <td>3</td>\n",
       "      <td>Bajaj Chetak Electric</td>\n",
       "      <td>Bajaj Auto</td>\n",
       "      <td>Scooter</td>\n",
       "      <td>4.0</td>\n",
       "      <td>95</td>\n",
       "      <td>5.0</td>\n",
       "      <td>150000.0</td>\n",
       "      <td>4.0</td>\n",
       "      <td>60.0</td>\n",
       "      <td>2020.0</td>\n",
       "    </tr>\n",
       "    <tr>\n",
       "      <th>3</th>\n",
       "      <td>4</td>\n",
       "      <td>Okinawa iPraise Pro</td>\n",
       "      <td>Okinawa Autotech</td>\n",
       "      <td>Scooter</td>\n",
       "      <td>2.5</td>\n",
       "      <td>100</td>\n",
       "      <td>3.0</td>\n",
       "      <td>85000.0</td>\n",
       "      <td>3.0</td>\n",
       "      <td>60.0</td>\n",
       "      <td>2021.0</td>\n",
       "    </tr>\n",
       "    <tr>\n",
       "      <th>4</th>\n",
       "      <td>5</td>\n",
       "      <td>Hero Electric Opto EV</td>\n",
       "      <td>Hero Motocorp</td>\n",
       "      <td>Scooter</td>\n",
       "      <td>2.2</td>\n",
       "      <td>75</td>\n",
       "      <td>3.0</td>\n",
       "      <td>75000.0</td>\n",
       "      <td>3.0</td>\n",
       "      <td>60.0</td>\n",
       "      <td>2021.0</td>\n",
       "    </tr>\n",
       "  </tbody>\n",
       "</table>\n",
       "</div>"
      ],
      "text/plain": [
       "   id                  Model      Manufacturer Vehicle Type  \\\n",
       "0   1          Aura 300 Plus      Ather Energy      Scooter   \n",
       "1   2      Pure EV Epluto 7G           Pure EV      Scooter   \n",
       "2   3  Bajaj Chetak Electric        Bajaj Auto      Scooter   \n",
       "3   4    Okinawa iPraise Pro  Okinawa Autotech      Scooter   \n",
       "4   5  Hero Electric Opto EV     Hero Motocorp      Scooter   \n",
       "\n",
       "   Battery Capacity (kWh)  Range per Charge (km)  Charging Time     Price  \\\n",
       "0                     2.9                    116            4.5  129000.0   \n",
       "1                     2.7                    120            3.0  109000.0   \n",
       "2                     4.0                     95            5.0  150000.0   \n",
       "3                     2.5                    100            3.0   85000.0   \n",
       "4                     2.2                     75            3.0   75000.0   \n",
       "\n",
       "   Power (HP or kW)  Top Speed (km/h)  Year of Manufacture  \n",
       "0               6.0              80.0               2021.0  \n",
       "1               5.0              80.0               2021.0  \n",
       "2               4.0              60.0               2020.0  \n",
       "3               3.0              60.0               2021.0  \n",
       "4               3.0              60.0               2021.0  "
      ]
     },
     "execution_count": 2,
     "metadata": {},
     "output_type": "execute_result"
    }
   ],
   "source": [
    "ev_data.head()"
   ]
  },
  {
   "cell_type": "markdown",
   "id": "71dab0d4",
   "metadata": {},
   "source": [
    "<h1 style=\"color:green;\"> Step 2: Examine the Data Structure and Summary Statistics 🚀</h1>"
   ]
  },
  {
   "cell_type": "code",
   "execution_count": 3,
   "id": "decaf01c",
   "metadata": {
    "scrolled": true
   },
   "outputs": [
    {
     "name": "stdout",
     "output_type": "stream",
     "text": [
      "<class 'pandas.core.frame.DataFrame'>\n",
      "RangeIndex: 50 entries, 0 to 49\n",
      "Data columns (total 11 columns):\n",
      " #   Column                  Non-Null Count  Dtype  \n",
      "---  ------                  --------------  -----  \n",
      " 0   id                      50 non-null     int64  \n",
      " 1   Model                   50 non-null     object \n",
      " 2   Manufacturer            50 non-null     object \n",
      " 3   Vehicle Type            50 non-null     object \n",
      " 4   Battery Capacity (kWh)  50 non-null     float64\n",
      " 5   Range per Charge (km)   50 non-null     int64  \n",
      " 6   Charging Time           49 non-null     float64\n",
      " 7   Price                   49 non-null     float64\n",
      " 8   Power (HP or kW)        49 non-null     float64\n",
      " 9   Top Speed (km/h)        49 non-null     float64\n",
      " 10  Year of Manufacture     49 non-null     float64\n",
      "dtypes: float64(6), int64(2), object(3)\n",
      "memory usage: 4.4+ KB\n"
     ]
    }
   ],
   "source": [
    "# examine the data\n",
    "\n",
    "ev_data.info()"
   ]
  },
  {
   "cell_type": "code",
   "execution_count": 4,
   "id": "e20cb21d",
   "metadata": {},
   "outputs": [
    {
     "data": {
      "text/html": [
       "<div>\n",
       "<style scoped>\n",
       "    .dataframe tbody tr th:only-of-type {\n",
       "        vertical-align: middle;\n",
       "    }\n",
       "\n",
       "    .dataframe tbody tr th {\n",
       "        vertical-align: top;\n",
       "    }\n",
       "\n",
       "    .dataframe thead th {\n",
       "        text-align: right;\n",
       "    }\n",
       "</style>\n",
       "<table border=\"1\" class=\"dataframe\">\n",
       "  <thead>\n",
       "    <tr style=\"text-align: right;\">\n",
       "      <th></th>\n",
       "      <th>id</th>\n",
       "      <th>Battery Capacity (kWh)</th>\n",
       "      <th>Range per Charge (km)</th>\n",
       "      <th>Charging Time</th>\n",
       "      <th>Price</th>\n",
       "      <th>Power (HP or kW)</th>\n",
       "      <th>Top Speed (km/h)</th>\n",
       "      <th>Year of Manufacture</th>\n",
       "    </tr>\n",
       "  </thead>\n",
       "  <tbody>\n",
       "    <tr>\n",
       "      <th>count</th>\n",
       "      <td>50.00000</td>\n",
       "      <td>50.000000</td>\n",
       "      <td>50.000000</td>\n",
       "      <td>49.000000</td>\n",
       "      <td>49.000000</td>\n",
       "      <td>49.000000</td>\n",
       "      <td>49.000000</td>\n",
       "      <td>49.000000</td>\n",
       "    </tr>\n",
       "    <tr>\n",
       "      <th>mean</th>\n",
       "      <td>25.50000</td>\n",
       "      <td>3.188000</td>\n",
       "      <td>120.160000</td>\n",
       "      <td>3.755102</td>\n",
       "      <td>120469.387755</td>\n",
       "      <td>6.795918</td>\n",
       "      <td>73.775510</td>\n",
       "      <td>2021.204082</td>\n",
       "    </tr>\n",
       "    <tr>\n",
       "      <th>std</th>\n",
       "      <td>14.57738</td>\n",
       "      <td>0.950325</td>\n",
       "      <td>30.370743</td>\n",
       "      <td>0.947158</td>\n",
       "      <td>46317.789078</td>\n",
       "      <td>6.570070</td>\n",
       "      <td>13.288882</td>\n",
       "      <td>0.499149</td>\n",
       "    </tr>\n",
       "    <tr>\n",
       "      <th>min</th>\n",
       "      <td>1.00000</td>\n",
       "      <td>2.200000</td>\n",
       "      <td>75.000000</td>\n",
       "      <td>2.500000</td>\n",
       "      <td>60000.000000</td>\n",
       "      <td>2.000000</td>\n",
       "      <td>50.000000</td>\n",
       "      <td>2020.000000</td>\n",
       "    </tr>\n",
       "    <tr>\n",
       "      <th>25%</th>\n",
       "      <td>13.25000</td>\n",
       "      <td>2.550000</td>\n",
       "      <td>100.000000</td>\n",
       "      <td>3.000000</td>\n",
       "      <td>85000.000000</td>\n",
       "      <td>3.000000</td>\n",
       "      <td>60.000000</td>\n",
       "      <td>2021.000000</td>\n",
       "    </tr>\n",
       "    <tr>\n",
       "      <th>50%</th>\n",
       "      <td>25.50000</td>\n",
       "      <td>2.900000</td>\n",
       "      <td>118.000000</td>\n",
       "      <td>3.500000</td>\n",
       "      <td>109000.000000</td>\n",
       "      <td>5.000000</td>\n",
       "      <td>80.000000</td>\n",
       "      <td>2021.000000</td>\n",
       "    </tr>\n",
       "    <tr>\n",
       "      <th>75%</th>\n",
       "      <td>37.75000</td>\n",
       "      <td>3.500000</td>\n",
       "      <td>140.000000</td>\n",
       "      <td>4.500000</td>\n",
       "      <td>149000.000000</td>\n",
       "      <td>6.000000</td>\n",
       "      <td>80.000000</td>\n",
       "      <td>2021.000000</td>\n",
       "    </tr>\n",
       "    <tr>\n",
       "      <th>max</th>\n",
       "      <td>50.00000</td>\n",
       "      <td>6.200000</td>\n",
       "      <td>200.000000</td>\n",
       "      <td>6.000000</td>\n",
       "      <td>250000.000000</td>\n",
       "      <td>25.000000</td>\n",
       "      <td>100.000000</td>\n",
       "      <td>2022.000000</td>\n",
       "    </tr>\n",
       "  </tbody>\n",
       "</table>\n",
       "</div>"
      ],
      "text/plain": [
       "             id  Battery Capacity (kWh)  Range per Charge (km)  Charging Time  \\\n",
       "count  50.00000               50.000000              50.000000      49.000000   \n",
       "mean   25.50000                3.188000             120.160000       3.755102   \n",
       "std    14.57738                0.950325              30.370743       0.947158   \n",
       "min     1.00000                2.200000              75.000000       2.500000   \n",
       "25%    13.25000                2.550000             100.000000       3.000000   \n",
       "50%    25.50000                2.900000             118.000000       3.500000   \n",
       "75%    37.75000                3.500000             140.000000       4.500000   \n",
       "max    50.00000                6.200000             200.000000       6.000000   \n",
       "\n",
       "               Price  Power (HP or kW)  Top Speed (km/h)  Year of Manufacture  \n",
       "count      49.000000         49.000000         49.000000            49.000000  \n",
       "mean   120469.387755          6.795918         73.775510          2021.204082  \n",
       "std     46317.789078          6.570070         13.288882             0.499149  \n",
       "min     60000.000000          2.000000         50.000000          2020.000000  \n",
       "25%     85000.000000          3.000000         60.000000          2021.000000  \n",
       "50%    109000.000000          5.000000         80.000000          2021.000000  \n",
       "75%    149000.000000          6.000000         80.000000          2021.000000  \n",
       "max    250000.000000         25.000000        100.000000          2022.000000  "
      ]
     },
     "execution_count": 4,
     "metadata": {},
     "output_type": "execute_result"
    }
   ],
   "source": [
    "# Display summary statistics\n",
    "ev_data.describe()"
   ]
  },
  {
   "cell_type": "code",
   "execution_count": 5,
   "id": "62d1178f",
   "metadata": {},
   "outputs": [],
   "source": [
    "# indentifying missing values\n",
    "missing_values = ev_data.isnull().sum()"
   ]
  },
  {
   "cell_type": "code",
   "execution_count": 6,
   "id": "b6ab9570",
   "metadata": {},
   "outputs": [],
   "source": [
    "ev_data_dtypes = ev_data.dtypes"
   ]
  },
  {
   "cell_type": "markdown",
   "id": "fbc4d9ff",
   "metadata": {},
   "source": [
    "<h1 style=\"color:green;\"> Step 3: Data Cleaning 🚀</h1>"
   ]
  },
  {
   "cell_type": "code",
   "execution_count": 7,
   "id": "4eaa1dc7",
   "metadata": {},
   "outputs": [],
   "source": [
    "# Handle missing values appropriately (e.g., filling, dropping, or imputing).\n",
    "# Correct data types if necessary.\n",
    "# Remove duplicates.\n",
    "# Look for any inconsistencies or outliers in the data."
   ]
  },
  {
   "cell_type": "code",
   "execution_count": 8,
   "id": "f32e2903",
   "metadata": {},
   "outputs": [],
   "source": [
    "ev_data['Charging Time'].fillna(ev_data['Charging Time'].mean(), inplace=True)"
   ]
  },
  {
   "cell_type": "code",
   "execution_count": 9,
   "id": "5254b879",
   "metadata": {},
   "outputs": [],
   "source": [
    "ev_data['Price'].fillna(ev_data['Price'].mean(), inplace=True)"
   ]
  },
  {
   "cell_type": "code",
   "execution_count": 10,
   "id": "44bbb8f0",
   "metadata": {},
   "outputs": [],
   "source": [
    "ev_data['Power (HP or kW)'].fillna(ev_data['Power (HP or kW)'].mean(), inplace=True)\n",
    "ev_data['Top Speed (km/h)'].fillna(ev_data['Top Speed (km/h)'].mean(), inplace=True)\n",
    "ev_data['Year of Manufacture'].fillna(ev_data['Year of Manufacture'].mean(), inplace=True)"
   ]
  },
  {
   "cell_type": "code",
   "execution_count": 11,
   "id": "3829f6f1",
   "metadata": {},
   "outputs": [],
   "source": [
    "# Ensure 'Year of Manufacture' is an integer\n",
    "ev_data['Year of Manufacture'] = ev_data['Year of Manufacture'].astype(int)"
   ]
  },
  {
   "cell_type": "code",
   "execution_count": 12,
   "id": "5a97248b",
   "metadata": {},
   "outputs": [],
   "source": [
    "ev_data.drop_duplicates(inplace=True)"
   ]
  },
  {
   "cell_type": "code",
   "execution_count": 13,
   "id": "2deca9d9",
   "metadata": {},
   "outputs": [],
   "source": [
    "# For simplicity, we'll check for outliers in the 'Price' column using IQR\n",
    "Q1 = ev_data['Price'].quantile(0.25)\n",
    "Q3 = ev_data['Price'].quantile(0.75)\n",
    "IQR = Q3 - Q1"
   ]
  },
  {
   "cell_type": "code",
   "execution_count": 14,
   "id": "cac94d6b",
   "metadata": {},
   "outputs": [],
   "source": [
    "# Define outliers\n",
    "outliers = ev_data[(ev_data['Price'] < (Q1 - 1.5 * IQR)) | (ev_data['Price'] > (Q3 + 1.5 * IQR))]"
   ]
  },
  {
   "cell_type": "code",
   "execution_count": 15,
   "id": "cba5a650",
   "metadata": {},
   "outputs": [
    {
     "data": {
      "text/html": [
       "<div>\n",
       "<style scoped>\n",
       "    .dataframe tbody tr th:only-of-type {\n",
       "        vertical-align: middle;\n",
       "    }\n",
       "\n",
       "    .dataframe tbody tr th {\n",
       "        vertical-align: top;\n",
       "    }\n",
       "\n",
       "    .dataframe thead th {\n",
       "        text-align: right;\n",
       "    }\n",
       "</style>\n",
       "<table border=\"1\" class=\"dataframe\">\n",
       "  <thead>\n",
       "    <tr style=\"text-align: right;\">\n",
       "      <th></th>\n",
       "      <th>id</th>\n",
       "      <th>Model</th>\n",
       "      <th>Manufacturer</th>\n",
       "      <th>Vehicle Type</th>\n",
       "      <th>Battery Capacity (kWh)</th>\n",
       "      <th>Range per Charge (km)</th>\n",
       "      <th>Charging Time</th>\n",
       "      <th>Price</th>\n",
       "      <th>Power (HP or kW)</th>\n",
       "      <th>Top Speed (km/h)</th>\n",
       "      <th>Year of Manufacture</th>\n",
       "    </tr>\n",
       "  </thead>\n",
       "  <tbody>\n",
       "    <tr>\n",
       "      <th>5</th>\n",
       "      <td>6</td>\n",
       "      <td>Tork T6X</td>\n",
       "      <td>Tork Motors</td>\n",
       "      <td>Bike</td>\n",
       "      <td>6.2</td>\n",
       "      <td>200</td>\n",
       "      <td>5.0</td>\n",
       "      <td>250000.0</td>\n",
       "      <td>25.0</td>\n",
       "      <td>100.0</td>\n",
       "      <td>2021</td>\n",
       "    </tr>\n",
       "    <tr>\n",
       "      <th>12</th>\n",
       "      <td>13</td>\n",
       "      <td>Tork T6X</td>\n",
       "      <td>Tork Motors</td>\n",
       "      <td>Bike</td>\n",
       "      <td>6.2</td>\n",
       "      <td>200</td>\n",
       "      <td>5.0</td>\n",
       "      <td>250000.0</td>\n",
       "      <td>25.0</td>\n",
       "      <td>100.0</td>\n",
       "      <td>2021</td>\n",
       "    </tr>\n",
       "    <tr>\n",
       "      <th>18</th>\n",
       "      <td>19</td>\n",
       "      <td>Tork T6X</td>\n",
       "      <td>Tork Motors</td>\n",
       "      <td>Bike</td>\n",
       "      <td>6.2</td>\n",
       "      <td>200</td>\n",
       "      <td>5.0</td>\n",
       "      <td>250000.0</td>\n",
       "      <td>25.0</td>\n",
       "      <td>100.0</td>\n",
       "      <td>2021</td>\n",
       "    </tr>\n",
       "  </tbody>\n",
       "</table>\n",
       "</div>"
      ],
      "text/plain": [
       "    id     Model Manufacturer Vehicle Type  Battery Capacity (kWh)  \\\n",
       "5    6  Tork T6X  Tork Motors         Bike                     6.2   \n",
       "12  13  Tork T6X  Tork Motors         Bike                     6.2   \n",
       "18  19  Tork T6X  Tork Motors         Bike                     6.2   \n",
       "\n",
       "    Range per Charge (km)  Charging Time     Price  Power (HP or kW)  \\\n",
       "5                     200            5.0  250000.0              25.0   \n",
       "12                    200            5.0  250000.0              25.0   \n",
       "18                    200            5.0  250000.0              25.0   \n",
       "\n",
       "    Top Speed (km/h)  Year of Manufacture  \n",
       "5              100.0                 2021  \n",
       "12             100.0                 2021  \n",
       "18             100.0                 2021  "
      ]
     },
     "execution_count": 15,
     "metadata": {},
     "output_type": "execute_result"
    }
   ],
   "source": [
    "# Print outliers if any\n",
    "outliers"
   ]
  },
  {
   "cell_type": "code",
   "execution_count": 16,
   "id": "76084df4",
   "metadata": {},
   "outputs": [
    {
     "name": "stdout",
     "output_type": "stream",
     "text": [
      "<class 'pandas.core.frame.DataFrame'>\n",
      "RangeIndex: 50 entries, 0 to 49\n",
      "Data columns (total 11 columns):\n",
      " #   Column                  Non-Null Count  Dtype  \n",
      "---  ------                  --------------  -----  \n",
      " 0   id                      50 non-null     int64  \n",
      " 1   Model                   50 non-null     object \n",
      " 2   Manufacturer            50 non-null     object \n",
      " 3   Vehicle Type            50 non-null     object \n",
      " 4   Battery Capacity (kWh)  50 non-null     float64\n",
      " 5   Range per Charge (km)   50 non-null     int64  \n",
      " 6   Charging Time           50 non-null     float64\n",
      " 7   Price                   50 non-null     float64\n",
      " 8   Power (HP or kW)        50 non-null     float64\n",
      " 9   Top Speed (km/h)        50 non-null     float64\n",
      " 10  Year of Manufacture     50 non-null     int32  \n",
      "dtypes: float64(5), int32(1), int64(2), object(3)\n",
      "memory usage: 4.2+ KB\n"
     ]
    },
    {
     "data": {
      "text/plain": [
       "(id                        0\n",
       " Model                     0\n",
       " Manufacturer              0\n",
       " Vehicle Type              0\n",
       " Battery Capacity (kWh)    0\n",
       " Range per Charge (km)     0\n",
       " Charging Time             1\n",
       " Price                     1\n",
       " Power (HP or kW)          1\n",
       " Top Speed (km/h)          1\n",
       " Year of Manufacture       1\n",
       " dtype: int64,\n",
       " None)"
      ]
     },
     "execution_count": 16,
     "metadata": {},
     "output_type": "execute_result"
    }
   ],
   "source": [
    "# Ensure 'Year of Manufacture' is an integer\n",
    "ev_data['Year of Manufacture'] = ev_data['Year of Manufacture'].astype(int)\n",
    "\n",
    "# Remove duplicates\n",
    "ev_data.drop_duplicates(inplace=True)\n",
    "\n",
    "missing_values, ev_data.info()"
   ]
  },
  {
   "cell_type": "code",
   "execution_count": 17,
   "id": "0e771de8",
   "metadata": {},
   "outputs": [
    {
     "name": "stdout",
     "output_type": "stream",
     "text": [
      "<class 'pandas.core.frame.DataFrame'>\n",
      "Index: 47 entries, 0 to 49\n",
      "Data columns (total 11 columns):\n",
      " #   Column                  Non-Null Count  Dtype  \n",
      "---  ------                  --------------  -----  \n",
      " 0   id                      47 non-null     int64  \n",
      " 1   Model                   47 non-null     object \n",
      " 2   Manufacturer            47 non-null     object \n",
      " 3   Vehicle Type            47 non-null     object \n",
      " 4   Battery Capacity (kWh)  47 non-null     float64\n",
      " 5   Range per Charge (km)   47 non-null     int64  \n",
      " 6   Charging Time           47 non-null     float64\n",
      " 7   Price                   47 non-null     float64\n",
      " 8   Power (HP or kW)        47 non-null     float64\n",
      " 9   Top Speed (km/h)        47 non-null     float64\n",
      " 10  Year of Manufacture     47 non-null     int32  \n",
      "dtypes: float64(5), int32(1), int64(2), object(3)\n",
      "memory usage: 4.2+ KB\n"
     ]
    },
    {
     "data": {
      "text/plain": [
       "(id                        0\n",
       " Model                     0\n",
       " Manufacturer              0\n",
       " Vehicle Type              0\n",
       " Battery Capacity (kWh)    0\n",
       " Range per Charge (km)     0\n",
       " Charging Time             0\n",
       " Price                     0\n",
       " Power (HP or kW)          0\n",
       " Top Speed (km/h)          0\n",
       " Year of Manufacture       0\n",
       " dtype: int64,\n",
       " None)"
      ]
     },
     "execution_count": 17,
     "metadata": {},
     "output_type": "execute_result"
    }
   ],
   "source": [
    "ev_data_cleaned = ev_data[~ev_data.index.isin(outliers.index)]\n",
    "\n",
    "missing_values_after_cleaning = ev_data_cleaned.isnull().sum()\n",
    "ev_data_cleaned_info = ev_data_cleaned.info()\n",
    "\n",
    "missing_values_after_cleaning, ev_data_cleaned_info"
   ]
  },
  {
   "cell_type": "markdown",
   "id": "2b7e52c7",
   "metadata": {},
   "source": [
    "<h1 style=\"color:green;\"> Step 4: Exploratory Data Analysis (EDA) 🚀</h1>"
   ]
  },
  {
   "cell_type": "markdown",
   "id": "4ccece43",
   "metadata": {},
   "source": [
    "\n",
    "### Customer-Related Questions:\n",
    "1) Which manufacturers offer the best range per charge for scooters?\n",
    "\n",
    "2) What is the average price of electric scooters, and which manufacturers offer the most affordable options?\n",
    "\n",
    "### Product-Related Questions:\n",
    "\n",
    "3) What is the relationship between battery capacity and range per charge across different vehicle types?\n",
    "\n",
    "4) How does the top speed vary among different manufacturers for scooters?\n",
    "\n",
    "### questions:\n",
    "\n",
    "What type of EV Vehicle will the company produce?\n",
    "\n",
    "To whom will it sell the vehicle?"
   ]
  },
  {
   "cell_type": "markdown",
   "id": "f1f701c6",
   "metadata": {},
   "source": [
    "## What type of EV will the company produce? "
   ]
  },
  {
   "cell_type": "code",
   "execution_count": 18,
   "id": "c4ae6418",
   "metadata": {},
   "outputs": [
    {
     "data": {
      "text/plain": [
       "Vehicle Type\n",
       "Scooter    39\n",
       "Bike        8\n",
       "Name: count, dtype: int64"
      ]
     },
     "execution_count": 18,
     "metadata": {},
     "output_type": "execute_result"
    }
   ],
   "source": [
    "# Analyze the types of EV vehicles produced\n",
    "vehicle_type_counts = ev_data_cleaned['Vehicle Type'].value_counts()\n",
    "vehicle_type_counts"
   ]
  },
  {
   "cell_type": "code",
   "execution_count": 19,
   "id": "0e2a797c",
   "metadata": {},
   "outputs": [],
   "source": [
    "# Understanding the Target Customers"
   ]
  },
  {
   "cell_type": "code",
   "execution_count": 20,
   "id": "41c92514",
   "metadata": {},
   "outputs": [
    {
     "data": {
      "text/plain": [
       "(count        47.000000\n",
       " mean     112201.476335\n",
       " std       32780.171191\n",
       " min       60000.000000\n",
       " 25%       85000.000000\n",
       " 50%      109000.000000\n",
       " 75%      149000.000000\n",
       " max      165000.000000\n",
       " Name: Price, dtype: float64,\n",
       " count     47.000000\n",
       " mean     115.063830\n",
       " std       23.243891\n",
       " min       75.000000\n",
       " 25%      100.000000\n",
       " 50%      116.000000\n",
       " 75%      125.000000\n",
       " max      160.000000\n",
       " Name: Range per Charge (km), dtype: float64,\n",
       " count    47.000000\n",
       " mean     72.101607\n",
       " std      11.685803\n",
       " min      50.000000\n",
       " 25%      60.000000\n",
       " 50%      80.000000\n",
       " 75%      80.000000\n",
       " max      90.000000\n",
       " Name: Top Speed (km/h), dtype: float64)"
      ]
     },
     "execution_count": 20,
     "metadata": {},
     "output_type": "execute_result"
    }
   ],
   "source": [
    "# We can infer the target customer segments by analyzing price ranges and key features of the EVs.\n",
    "# Analyze the price range of the vehicles\n",
    "price_range = ev_data_cleaned['Price'].describe()\n",
    "\n",
    "# Analyze the range per charge of the vehicles\n",
    "range_per_charge = ev_data_cleaned['Range per Charge (km)'].describe()\n",
    "\n",
    "# Analyze the top speed of the vehicles\n",
    "top_speed = ev_data_cleaned['Top Speed (km/h)'].describe()\n",
    "\n",
    "price_range, range_per_charge, top_speed"
   ]
  },
  {
   "cell_type": "markdown",
   "id": "dbc0175b",
   "metadata": {},
   "source": [
    "## To whom will it sell the vehicle?\n",
    "\n",
    "By analyzing the price range, range per charge, and top speed, we can infer target customer segments. \n",
    "\n",
    "The dataset shows:\n",
    "Price Range: From INR 60,000 to INR 250,000, suggesting a broad target market from budget-conscious to premium customers.\n",
    "Range per Charge: Varies significantly, appealing to customers with different commuting needs.\n",
    "\n",
    "Top Speed: Also varies, appealing to both regular commuters and performance enthusiasts.\n",
    "\n",
    "General Findings:\n",
    "\n",
    "Types of EVs Produced: The company produces a variety of EVs, with a significant focus on scooters.\n",
    "\n",
    "Target Customers: The vehicles cater to a wide range of customers, from budget-conscious buyers to those seeking high-performance or long-range options. "
   ]
  },
  {
   "cell_type": "markdown",
   "id": "630c3efd",
   "metadata": {},
   "source": [
    "## Question 1: Which manufacturers offer the best range per charge for scooters? "
   ]
  },
  {
   "cell_type": "code",
   "execution_count": 21,
   "id": "42bd5998",
   "metadata": {},
   "outputs": [],
   "source": [
    "# Proceding with eda to answers the questions :"
   ]
  },
  {
   "cell_type": "code",
   "execution_count": 22,
   "id": "03851df1",
   "metadata": {},
   "outputs": [
    {
     "data": {
      "text/plain": [
       "Manufacturer\n",
       "Bajaj Auto              128.4\n",
       "Pure EV                 125.0\n",
       "Ather Energy            124.5\n",
       "Ampere Vehicles         110.0\n",
       "Electric Vehicle Co.    110.0\n",
       "Okinawa Autotech        105.0\n",
       "Hero Motocorp            75.0\n",
       "Name: Range per Charge (km), dtype: float64"
      ]
     },
     "execution_count": 22,
     "metadata": {},
     "output_type": "execute_result"
    }
   ],
   "source": [
    "# Filter data for scooters\n",
    "scooter_data = ev_data_cleaned[ev_data_cleaned['Vehicle Type'] == 'Scooter']\n",
    "\n",
    "# Calculate the average range per charge for each manufacturer\n",
    "range_per_manufacturer = scooter_data.groupby('Manufacturer')['Range per Charge (km)'].mean().sort_values(ascending=False)\n",
    "range_per_manufacturer"
   ]
  },
  {
   "cell_type": "code",
   "execution_count": 23,
   "id": "aec5d1b5",
   "metadata": {},
   "outputs": [],
   "source": [
    "# Bajaj auto works the best here"
   ]
  },
  {
   "cell_type": "markdown",
   "id": "ded76c83",
   "metadata": {},
   "source": [
    "## Question 2: What is the average price of electric scooters, and which manufacturers offer the most affordable options? "
   ]
  },
  {
   "cell_type": "code",
   "execution_count": 24,
   "id": "61e635c3",
   "metadata": {},
   "outputs": [
    {
     "data": {
      "text/plain": [
       "Manufacturer\n",
       "Hero Motocorp            75000.000000\n",
       "Electric Vehicle Co.     86666.666667\n",
       "Okinawa Autotech         87500.000000\n",
       "Ampere Vehicles          92617.346939\n",
       "Pure EV                 111750.000000\n",
       "Bajaj Auto              150000.000000\n",
       "Ather Energy            150500.000000\n",
       "Name: Price, dtype: float64"
      ]
     },
     "execution_count": 24,
     "metadata": {},
     "output_type": "execute_result"
    }
   ],
   "source": [
    "# Calculate the average price of scooters for each manufacturer\n",
    "price_per_manufacturer = scooter_data.groupby('Manufacturer')['Price'].mean().sort_values()\n",
    "price_per_manufacturer"
   ]
  },
  {
   "cell_type": "code",
   "execution_count": 25,
   "id": "11f1753c",
   "metadata": {},
   "outputs": [],
   "source": [
    "#  the most affoprdable  appears to be 'Hero Motocorp ' following with \"electric vehicle co.\" in second."
   ]
  },
  {
   "cell_type": "markdown",
   "id": "60b647a2",
   "metadata": {},
   "source": [
    "##  Question 3: What is the relationship between battery capacity and range per charge across different vehicle types? "
   ]
  },
  {
   "cell_type": "code",
   "execution_count": 26,
   "id": "0f4bd5eb",
   "metadata": {},
   "outputs": [
    {
     "data": {
      "image/png": "[encoded data removed]",
      "text/plain": [
       "<Figure size 1000x600 with 1 Axes>"
      ]
     },
     "metadata": {},
     "output_type": "display_data"
    }
   ],
   "source": [
    "import matplotlib.pyplot as plt\n",
    "import seaborn as sns\n",
    "\n",
    "plt.figure(figsize=(10, 6))\n",
    "sns.scatterplot(data=ev_data_cleaned, x='Battery Capacity (kWh)', y='Range per Charge (km)', hue='Vehicle Type')\n",
    "plt.title('Battery Capacity vs. Range per Charge by Vehicle Type')\n",
    "plt.xlabel('Battery Capacity (kWh)')\n",
    "plt.ylabel('Range per Charge (km)')\n",
    "plt.legend(title='Vehicle Type')\n",
    "plt.show()"
   ]
  },
  {
   "cell_type": "code",
   "execution_count": 27,
   "id": "153abbec",
   "metadata": {},
   "outputs": [],
   "source": [
    "#  in terms of battery capacity the scooter are the best when compared to bike"
   ]
  },
  {
   "cell_type": "markdown",
   "id": "d92d7339",
   "metadata": {},
   "source": [
    "##  Question 4: How does the top speed vary among different manufacturers for scooters?"
   ]
  },
  {
   "cell_type": "code",
   "execution_count": 28,
   "id": "ef36be45",
   "metadata": {},
   "outputs": [
    {
     "data": {
      "text/plain": [
       "Manufacturer\n",
       "Ather Energy            82.500000\n",
       "Pure EV                 81.250000\n",
       "Bajaj Auto              74.000000\n",
       "Electric Vehicle Co.    66.666667\n",
       "Ampere Vehicles         65.943878\n",
       "Okinawa Autotech        62.500000\n",
       "Hero Motocorp           60.000000\n",
       "Name: Top Speed (km/h), dtype: float64"
      ]
     },
     "execution_count": 28,
     "metadata": {},
     "output_type": "execute_result"
    }
   ],
   "source": [
    "# Calculate the average top speed for each manufacturer\n",
    "top_speed_per_manufacturer = scooter_data.groupby('Manufacturer')['Top Speed (km/h)'].mean().sort_values(ascending=False)\n",
    "top_speed_per_manufacturer"
   ]
  },
  {
   "cell_type": "code",
   "execution_count": 36,
   "id": "59e0d54b",
   "metadata": {},
   "outputs": [],
   "source": [
    "# 'Ather Energy' is the top speed per manufacturer"
   ]
  },
  {
   "cell_type": "markdown",
   "id": "6883a161",
   "metadata": {},
   "source": []
  },
  {
   "cell_type": "markdown",
   "id": "c4e6031e",
   "metadata": {},
   "source": [
    "# Segmentation Analysis"
   ]
  },
  {
   "cell_type": "markdown",
   "id": "951822d4",
   "metadata": {},
   "source": [
    "### Customer Segmentation\n",
    "Using the data, we will segment the market based on key attributes such as price, range per charge, and top speed."
   ]
  },
  {
   "cell_type": "code",
   "execution_count": 41,
   "id": "b19429c0",
   "metadata": {},
   "outputs": [
    {
     "name": "stdout",
     "output_type": "stream",
     "text": [
      "Price Segment\n",
      "Low        17\n",
      "High       12\n",
      "Medium      9\n",
      "Premium     9\n",
      "Name: count, dtype: int64\n"
     ]
    }
   ],
   "source": [
    "price_segments = pd.qcut(ev_data_cleaned['Price'], q=4, labels=['Low', 'Medium', 'High', 'Premium'])\n",
    "ev_data_cleaned.loc[:, 'Price Segment'] = price_segments\n",
    "price_segment_counts = ev_data_cleaned['Price Segment'].value_counts()\n",
    "print(price_segment_counts)"
   ]
  },
  {
   "cell_type": "code",
   "execution_count": 42,
   "id": "950da227",
   "metadata": {},
   "outputs": [
    {
     "name": "stdout",
     "output_type": "stream",
     "text": [
      "Range Segment\n",
      "Short Range     19\n",
      "Medium Range    16\n",
      "Long Range      12\n",
      "Name: count, dtype: int64\n"
     ]
    }
   ],
   "source": [
    "# segmenting the range per charge\n",
    "range_segments = pd.qcut(ev_data_cleaned['Range per Charge (km)'], q=3, labels=['Short Range', 'Medium Range', 'Long Range'])\n",
    "ev_data_cleaned.loc[:, 'Range Segment'] = range_segments\n",
    "range_segment_counts = ev_data_cleaned['Range Segment'].value_counts()\n",
    "print(range_segment_counts)"
   ]
  },
  {
   "cell_type": "code",
   "execution_count": 44,
   "id": "c8f44c97",
   "metadata": {},
   "outputs": [
    {
     "name": "stdout",
     "output_type": "stream",
     "text": [
      "Speed Segment Counts:\n",
      " Speed Segment\n",
      "Medium Speed    20\n",
      "Low Speed       18\n",
      "High Speed       9\n",
      "Name: count, dtype: int64\n"
     ]
    }
   ],
   "source": [
    "# segmenting by top spped\n",
    "speed_segments = pd.qcut(ev_data_cleaned['Top Speed (km/h)'], q=3, labels=['Low Speed', 'Medium Speed', 'High Speed'])\n",
    "ev_data_cleaned.loc[:, 'Speed Segment'] = speed_segments\n",
    "speed_segment_counts = ev_data_cleaned['Speed Segment'].value_counts()\n",
    "print(\"Speed Segment Counts:\\n\", speed_segment_counts)"
   ]
  },
  {
   "cell_type": "markdown",
   "id": "599347b0",
   "metadata": {},
   "source": [
    "<h1 style=\"color:green;\"> Step 5: Visualization 🚀</h1> "
   ]
  },
  {
   "cell_type": "code",
   "execution_count": 30,
   "id": "86ea4f1d",
   "metadata": {},
   "outputs": [],
   "source": [
    "# visualization part where we will use the preformed eda to visualization"
   ]
  },
  {
   "cell_type": "code",
   "execution_count": 31,
   "id": "d132162c",
   "metadata": {},
   "outputs": [
    {
     "data": {
      "image/png": "[encoded data removed]",
      "text/plain": [
       "<Figure size 1200x800 with 1 Axes>"
      ]
     },
     "metadata": {},
     "output_type": "display_data"
    }
   ],
   "source": [
    "# Visualize results for questions 1\n",
    "plt.figure(figsize=(12, 8))\n",
    "\n",
    "plt.subplot(2, 1, 1)\n",
    "range_per_manufacturer.plot(kind='bar', color='skyblue')\n",
    "plt.title('Average Range per Charge by Manufacturer (Scooters)')\n",
    "plt.xlabel('Manufacturer')\n",
    "plt.ylabel('Average Range per Charge (km)')\n",
    "\n",
    "plt.tight_layout()\n",
    "plt.show()\n"
   ]
  },
  {
   "cell_type": "code",
   "execution_count": 32,
   "id": "ca71d9ee",
   "metadata": {},
   "outputs": [
    {
     "data": {
      "image/png": "[encoded data removed]",
      "text/plain": [
       "<Figure size 1200x800 with 1 Axes>"
      ]
     },
     "metadata": {},
     "output_type": "display_data"
    }
   ],
   "source": [
    "#  # Visualize results for questions 2\n",
    "plt.figure(figsize=(12, 8))\n",
    "\n",
    "plt.subplot(2, 1, 2)\n",
    "price_per_manufacturer.plot(kind='bar', color='lightgreen')\n",
    "plt.title('Average Price by Manufacturer (Scooters)')\n",
    "plt.xlabel('Manufacturer')\n",
    "plt.ylabel('Average Price (INR)')\n",
    "\n",
    "plt.tight_layout()\n",
    "plt.show()"
   ]
  },
  {
   "cell_type": "code",
   "execution_count": 33,
   "id": "b3f59c9a",
   "metadata": {},
   "outputs": [],
   "source": [
    "# for 4th question"
   ]
  },
  {
   "cell_type": "code",
   "execution_count": 34,
   "id": "b47cac03",
   "metadata": {},
   "outputs": [
    {
     "data": {
      "text/plain": [
       "<Figure size 1200x800 with 0 Axes>"
      ]
     },
     "metadata": {},
     "output_type": "display_data"
    },
    {
     "data": {
      "image/png": "[encoded data removed]",
      "text/plain": [
       "<Figure size 1000x600 with 1 Axes>"
      ]
     },
     "metadata": {},
     "output_type": "display_data"
    }
   ],
   "source": [
    "plt.figure(figsize=(12, 8))\n",
    "plt.figure(figsize=(10, 6))\n",
    "top_speed_per_manufacturer.plot(kind='bar', color='salmon')\n",
    "plt.title('Average Top Speed by Manufacturer (Scooters)')\n",
    "plt.xlabel('Manufacturer')\n",
    "plt.ylabel('Average Top Speed (km/h)')\n",
    "plt.show()"
   ]
  },
  {
   "cell_type": "code",
   "execution_count": 35,
   "id": "d9d4da0e",
   "metadata": {},
   "outputs": [
    {
     "name": "stdout",
     "output_type": "stream",
     "text": [
      "<class 'pandas.core.frame.DataFrame'>\n",
      "Index: 47 entries, 0 to 49\n",
      "Data columns (total 11 columns):\n",
      " #   Column                  Non-Null Count  Dtype  \n",
      "---  ------                  --------------  -----  \n",
      " 0   id                      47 non-null     int64  \n",
      " 1   Model                   47 non-null     object \n",
      " 2   Manufacturer            47 non-null     object \n",
      " 3   Vehicle Type            47 non-null     object \n",
      " 4   Battery Capacity (kWh)  47 non-null     float64\n",
      " 5   Range per Charge (km)   47 non-null     int64  \n",
      " 6   Charging Time           47 non-null     float64\n",
      " 7   Price                   47 non-null     float64\n",
      " 8   Power (HP or kW)        47 non-null     float64\n",
      " 9   Top Speed (km/h)        47 non-null     float64\n",
      " 10  Year of Manufacture     47 non-null     int32  \n",
      "dtypes: float64(5), int32(1), int64(2), object(3)\n",
      "memory usage: 4.2+ KB\n"
     ]
    },
    {
     "data": {
      "text/plain": [
       "(id                        0\n",
       " Model                     0\n",
       " Manufacturer              0\n",
       " Vehicle Type              0\n",
       " Battery Capacity (kWh)    0\n",
       " Range per Charge (km)     0\n",
       " Charging Time             0\n",
       " Price                     0\n",
       " Power (HP or kW)          0\n",
       " Top Speed (km/h)          0\n",
       " Year of Manufacture       0\n",
       " dtype: int64,\n",
       " None,\n",
       "     id     Model Manufacturer Vehicle Type  Battery Capacity (kWh)  \\\n",
       " 5    6  Tork T6X  Tork Motors         Bike                     6.2   \n",
       " 12  13  Tork T6X  Tork Motors         Bike                     6.2   \n",
       " 18  19  Tork T6X  Tork Motors         Bike                     6.2   \n",
       " \n",
       "     Range per Charge (km)  Charging Time     Price  Power (HP or kW)  \\\n",
       " 5                     200            5.0  250000.0              25.0   \n",
       " 12                    200            5.0  250000.0              25.0   \n",
       " 18                    200            5.0  250000.0              25.0   \n",
       " \n",
       "     Top Speed (km/h)  Year of Manufacture  \n",
       " 5              100.0                 2021  \n",
       " 12             100.0                 2021  \n",
       " 18             100.0                 2021  )"
      ]
     },
     "execution_count": 35,
     "metadata": {},
     "output_type": "execute_result"
    }
   ],
   "source": [
    "# Fill missing numerical values with the mean\n",
    "ev_data['Charging Time'].fillna(ev_data['Charging Time'].mean(), inplace=True)\n",
    "ev_data['Price'].fillna(ev_data['Price'].mean(), inplace=True)\n",
    "ev_data['Power (HP or kW)'].fillna(ev_data['Power (HP or kW)'].mean(), inplace=True)\n",
    "ev_data['Top Speed (km/h)'].fillna(ev_data['Top Speed (km/h)'].mean(), inplace=True)\n",
    "ev_data['Year of Manufacture'].fillna(ev_data['Year of Manufacture'].mean(), inplace=True)\n",
    "\n",
    "# Ensure 'Year of Manufacture' is an integer\n",
    "ev_data['Year of Manufacture'] = ev_data['Year of Manufacture'].astype(int)\n",
    "\n",
    "# Remove duplicates\n",
    "ev_data.drop_duplicates(inplace=True)\n",
    "\n",
    "# Check for any inconsistencies or outliers in the data\n",
    "# For simplicity, we'll check for outliers in the 'Price' column using IQR\n",
    "Q1 = ev_data['Price'].quantile(0.25)\n",
    "Q3 = ev_data['Price'].quantile(0.75)\n",
    "IQR = Q3 - Q1\n",
    "\n",
    "# Define outliers\n",
    "outliers = ev_data[(ev_data['Price'] < (Q1 - 1.5 * IQR)) | (ev_data['Price'] > (Q3 + 1.5 * IQR))]\n",
    "\n",
    "# Print outliers if any\n",
    "outliers\n",
    "\n",
    "# Remove outliers (optional step, based on analysis context)\n",
    "ev_data_cleaned = ev_data[~ev_data.index.isin(outliers.index)]\n",
    "\n",
    "missing_values_after_cleaning = ev_data_cleaned.isnull().sum()\n",
    "ev_data_cleaned_info = ev_data_cleaned.info()\n",
    "\n",
    "missing_values_after_cleaning, ev_data_cleaned_info, outliers"
   ]
  },
  {
   "cell_type": "markdown",
   "id": "d81e52fd",
   "metadata": {},
   "source": [
    "<h1 style=\"color:green;\">Final Conclusion: 🚀</h1> "
   ]
  },
  {
   "cell_type": "markdown",
   "id": "994fce10",
   "metadata": {},
   "source": [
    "\n",
    "A detailed analysis revealed insights into the electric vehicle (EV) market in India, focusing on various aspects such as base models, charging infrastructure, and regional distribution. The analysis identified key base models with significant average power and performance characteristics, highlighting the most efficient and popular models among customers. Additionally, it examined the distribution of range per charge, charging times, and top speeds across different models, providing valuable information on the efficiency and capabilities of these vehicles. The study also delved into the types of EV chargers used and the regions with the highest concentration of charging stations, offering strategic guidance for targeting specific geographic markets and improving infrastructure. These insights collectively aid in making informed decisions for product development, customer targeting, and understanding market trends."
   ]
  },
  {
   "cell_type": "code",
   "execution_count": null,
   "id": "6aee077c",
   "metadata": {},
   "outputs": [],
   "source": []
  }
 ],
 "metadata": {
  "kernelspec": {
   "display_name": "Python 3 (ipykernel)",
   "language": "python",
   "name": "python3"
  },
  "language_info": {
   "codemirror_mode": {
    "name": "ipython",
    "version": 3
   },
   "file_extension": ".py",
   "mimetype": "text/x-python",
   "name": "python",
   "nbconvert_exporter": "python",
   "pygments_lexer": "ipython3",
   "version": "3.11.5"
  }
 },
 "nbformat": 4,
 "nbformat_minor": 5
}
